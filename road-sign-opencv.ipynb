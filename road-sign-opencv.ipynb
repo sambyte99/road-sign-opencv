{
 "cells": [
  {
   "cell_type": "markdown",
   "metadata": {},
   "source": [
    "# Importing the libraries\n",
    "We will be needing the following libraries. Make sure you install NumPy, Pandas, Keras, Matplotlib and OpenCV before implementing the following code."
   ]
  },
  {
   "cell_type": "code",
   "execution_count": 1,
   "metadata": {},
   "outputs": [
    {
     "name": "stderr",
     "output_type": "stream",
     "text": [
      "Using TensorFlow backend.\n"
     ]
    }
   ],
   "source": [
    "import numpy as np \n",
    "import matplotlib.pyplot as plt \n",
    "import keras \n",
    "from keras.models import Sequential \n",
    "from keras.layers import Dense, Dropout, Flatten \n",
    "from keras.layers.convolutional import Conv2D, MaxPooling2D \n",
    "from keras.optimizers import Adam \n",
    "from keras.utils.np_utils import to_categorical \n",
    "from keras.preprocessing.image import ImageDataGenerator \n",
    "import pickle \n",
    "import pandas as pd \n",
    "import random \n",
    "import cv2 \n",
    "\n",
    "np.random.seed(0) \n"
   ]
  },
  {
   "cell_type": "code",
   "execution_count": 4,
   "metadata": {},
   "outputs": [
    {
     "name": "stdout",
     "output_type": "stream",
     "text": [
      "(34799, 32, 32, 3)\n",
      "(4410, 32, 32, 3)\n",
      "(12630, 32, 32, 3)\n"
     ]
    }
   ],
   "source": [
    "# Read data \n",
    "data = pd.read_csv(\"signnames.csv\") \n",
    "\n",
    "with open('train.p', 'rb') as f: \n",
    "    train_data = pickle.load(f) \n",
    "with open('valid.p', 'rb') as f: \n",
    "    val_data = pickle.load(f) \n",
    "with open('test.p', 'rb') as f: \n",
    "    test_data = pickle.load(f) \n",
    "\n",
    "# Extracting the labels from the dictionaries \n",
    "X_train, y_train = train_data['features'], train_data['labels'] \n",
    "X_val, y_val = val_data['features'], val_data['labels'] \n",
    "X_test, y_test = test_data['features'], test_data['labels'] \n",
    "\n",
    "# Printing the shapes \n",
    "print(X_train.shape) \n",
    "print(X_val.shape) \n",
    "print(X_test.shape) \n"
   ]
  },
  {
   "cell_type": "code",
   "execution_count": 5,
   "metadata": {},
   "outputs": [],
   "source": [
    "def preprocessing(img): \n",
    "    img = cv2.cvtColor(img, cv2.COLOR_BGR2GRAY) \n",
    "    img = cv2.equalizeHist(img) \n",
    "    img = img / 255\n",
    "    return img \n",
    "\n",
    "X_train = np.array(list(map(preprocessing, X_train))) \n",
    "X_val = np.array(list(map(preprocessing, X_val))) \n",
    "X_test = np.array(list(map(preprocessing, X_test))) \n",
    "\n",
    "X_train = X_train.reshape(34799, 32, 32, 1) \n",
    "X_val = X_val.reshape(4410, 32, 32, 1) \n",
    "X_test = X_test.reshape(12630, 32, 32, 1) \n"
   ]
  },
  {
   "cell_type": "code",
   "execution_count": 6,
   "metadata": {},
   "outputs": [],
   "source": [
    "datagen = ImageDataGenerator(width_shift_range = 0.1, \n",
    "                height_shift_range = 0.1, \n",
    "                zoom_range = 0.2, \n",
    "                shear_range = 0.1, \n",
    "                rotation_range = 10) \n",
    "datagen.fit(X_train) \n",
    "\n",
    "y_train = to_categorical(y_train, 43) \n",
    "y_val = to_categorical(y_val, 43) \n",
    "y_test = to_categorical(y_test, 43) \n"
   ]
  },
  {
   "cell_type": "code",
   "execution_count": 15,
   "metadata": {},
   "outputs": [
    {
     "name": "stdout",
     "output_type": "stream",
     "text": [
      "Epoch 1/10\n",
      " 696/2000 [=========>....................] - ETA: 4:25 - loss: 1.7207 - accuracy: 0.5118WARNING:tensorflow:Your input ran out of data; interrupting training. Make sure that your dataset or generator can generate at least `steps_per_epoch * epochs` batches (in this case, 20000 batches). You may need to use the repeat() function when building your dataset.\n",
      " 696/2000 [=========>....................] - 147s 211ms/step - loss: 1.7207 - accuracy: 0.5118 - val_loss: 0.3081 - val_accuracy: 0.9023\n"
     ]
    }
   ],
   "source": [
    "num_classes = 43\n",
    "\n",
    "def cnn_model(): \n",
    "    model = Sequential() \n",
    "    model.add(Conv2D(60, (5, 5), \n",
    "                    input_shape =(32, 32, 1), \n",
    "                    activation ='relu')) \n",
    "\n",
    "    model.add(Conv2D(60, (5, 5), activation ='relu')) \n",
    "    model.add(MaxPooling2D(pool_size =(2, 2))) \n",
    "    \n",
    "    model.add(Conv2D(30, (3, 3), activation ='relu')) \n",
    "    model.add(Conv2D(30, (3, 3), activation ='relu')) \n",
    "    model.add(MaxPooling2D(pool_size =(2, 2))) \n",
    "    \n",
    "    model.add(Flatten()) \n",
    "    model.add(Dense(500, activation ='relu')) \n",
    "    model.add(Dropout(0.5)) \n",
    "    model.add(Dense(num_classes, activation ='softmax')) \n",
    "    \n",
    "    # Compile model \n",
    "    model.compile(Adam(lr = 0.001), \n",
    "                loss ='categorical_crossentropy', \n",
    "                metrics =['accuracy']) \n",
    "    return model \n",
    "\n",
    "model = cnn_model() \n",
    "history = model.fit_generator(datagen.flow(X_train, y_train, \n",
    "                            batch_size = 50), steps_per_epoch = 2000, \n",
    "                            epochs = 10, validation_data =(X_val, y_val), \n",
    "                            shuffle = 1) \n"
   ]
  },
  {
   "cell_type": "code",
   "execution_count": 16,
   "metadata": {},
   "outputs": [
    {
     "data": {
      "text/plain": [
       "Text(0.5, 0, 'epoch')"
      ]
     },
     "execution_count": 16,
     "metadata": {},
     "output_type": "execute_result"
    },
    {
     "data": {
      "image/png": "[encoded data removed]",
      "text/plain": [
       "<Figure size 432x288 with 1 Axes>"
      ]
     },
     "metadata": {
      "needs_background": "light"
     },
     "output_type": "display_data"
    }
   ],
   "source": [
    "plt.plot(history.history['loss']) \n",
    "plt.plot(history.history['val_loss']) \n",
    "plt.legend(['training', 'validation']) \n",
    "plt.title('Loss') \n",
    "plt.xlabel('epoch') "
   ]
  },
  {
   "cell_type": "code",
   "execution_count": 19,
   "metadata": {},
   "outputs": [
    {
     "data": {
      "text/plain": [
       "Text(0.5, 0, 'epoch')"
      ]
     },
     "execution_count": 19,
     "metadata": {},
     "output_type": "execute_result"
    },
    {
     "data": {
      "image/png": "[encoded data removed]",
      "text/plain": [
       "<Figure size 432x288 with 1 Axes>"
      ]
     },
     "metadata": {
      "needs_background": "light"
     },
     "output_type": "display_data"
    }
   ],
   "source": [
    "plt.plot(history.history['accuracy']) \n",
    "plt.plot(history.history['val_accuracy']) \n",
    "plt.legend(['training', 'validation']) \n",
    "plt.title('Accuracy') \n",
    "plt.xlabel('epoch') "
   ]
  },
  {
   "cell_type": "code",
   "execution_count": 21,
   "metadata": {},
   "outputs": [
    {
     "name": "stdout",
     "output_type": "stream",
     "text": [
      "Test Loss:  0.3641032874584198\n",
      "Test Accuracy:  0.8908947110176086\n"
     ]
    }
   ],
   "source": [
    "score = model.evaluate(X_test, y_test, verbose = 0) \n",
    "print('Test Loss: ', score[0]) \n",
    "print('Test Accuracy: ', score[1]) \n"
   ]
  },
  {
   "cell_type": "code",
   "execution_count": 22,
   "metadata": {},
   "outputs": [
    {
     "name": "stdout",
     "output_type": "stream",
     "text": [
      "WARNING:tensorflow:From <ipython-input-22-5443ec552907>:3: Sequential.predict_classes (from tensorflow.python.keras.engine.sequential) is deprecated and will be removed after 2021-01-01.\n",
      "Instructions for updating:\n",
      "Please use instead:* `np.argmax(model.predict(x), axis=-1)`,   if your model does multi-class classification   (e.g. if it uses a `softmax` last-layer activation).* `(model.predict(x) > 0.5).astype(\"int32\")`,   if your model does binary classification   (e.g. if it uses a `sigmoid` last-layer activation).\n",
      "Predicted sign: [4]\n"
     ]
    },
    {
     "data": {
      "image/png": "[encoded data removed]",
      "text/plain": [
       "<Figure size 432x288 with 1 Axes>"
      ]
     },
     "metadata": {
      "needs_background": "light"
     },
     "output_type": "display_data"
    }
   ],
   "source": [
    "plt.imshow(X_test[990].reshape(32, 32)) \n",
    "print(\"Predicted sign: \"+ str( \n",
    "        model.predict_classes(X_test[990].reshape(1, 32, 32, 1)))) \n"
   ]
  },
  {
   "cell_type": "code",
   "execution_count": null,
   "metadata": {},
   "outputs": [],
   "source": [
    " "
   ]
  }
 ],
 "metadata": {
  "kernelspec": {
   "display_name": "Python 3",
   "language": "python",
   "name": "python3"
  },
  "language_info": {
   "codemirror_mode": {
    "name": "ipython",
    "version": 3
   },
   "file_extension": ".py",
   "mimetype": "text/x-python",
   "name": "python",
   "nbconvert_exporter": "python",
   "pygments_lexer": "ipython3",
   "version": "3.7.6"
  }
 },
 "nbformat": 4,
 "nbformat_minor": 4
}
